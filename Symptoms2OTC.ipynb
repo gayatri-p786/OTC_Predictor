{
  "nbformat": 4,
  "nbformat_minor": 0,
  "metadata": {
    "colab": {
      "provenance": []
    },
    "kernelspec": {
      "name": "python3",
      "display_name": "Python 3"
    },
    "language_info": {
      "name": "python"
    }
  },
  "cells": [
    {
      "cell_type": "code",
      "source": [
        "import pandas as pd\n",
        "\n",
        "# Load drugs to disease dataset\n",
        "df_drugs_disease = pd.read_csv('drugs_side_effects_drugs_com.csv')\n",
        "\n",
        "# Load disease_drug dataset\n",
        "df_disease_drug = pd.read_csv('final.csv')\n",
        "\n",
        "# Load disease to symptoms dataset\n",
        "df_disease_symptoms = pd.read_csv('dataset.csv')\n"
      ],
      "metadata": {
        "id": "55HrZYn6DZ0j"
      },
      "execution_count": null,
      "outputs": []
    },
    {
      "cell_type": "code",
      "source": [
        "# Clean disease names in all datasets\n",
        "df_drugs_disease['medical_condition'] = df_drugs_disease['medical_condition'].str.lower().str.strip()\n",
        "df_disease_drug['disease'] = df_disease_drug['disease'].str.lower().str.strip()\n",
        "df_disease_symptoms['disease'] = df_disease_symptoms['Disease'].str.lower().str.strip()\n",
        "df_disease_symptoms.drop(['Disease'], axis=1, inplace=True)\n"
      ],
      "metadata": {
        "id": "T15nbxJnDh4M"
      },
      "execution_count": null,
      "outputs": []
    },
    {
      "cell_type": "code",
      "source": [
        "import re\n",
        "\n",
        "def extract_symptoms(description):\n",
        "    # Define a regex pattern to extract symptoms\n",
        "    pattern = r'\\b(symptom(?:s)?\\b|\\bcondition(?:s)?\\b|\\bmanifest(?:s)?\\b|\\bpresent(?:s)?\\b|\\bcomplain(?:s)?\\b|\\bfind(?:s)?\\b)\\b(?:\\w+\\W+\\w+){0,5}?(\\w+\\b)'\n",
        "    symptoms = re.findall(pattern, description, re.IGNORECASE)\n",
        "    return [symptom[1] for symptom in symptoms]\n",
        "\n",
        "# Apply the function to extract symptoms from medical_condition_description\n",
        "df_drugs_disease['extracted_symptoms'] = df_drugs_disease['medical_condition_description'].apply(extract_symptoms)\n"
      ],
      "metadata": {
        "id": "MjXTUZwSDp6X"
      },
      "execution_count": null,
      "outputs": []
    },
    {
      "cell_type": "code",
      "source": [
        "# Merge disease_drug dataset with drugs to disease dataset on disease and drug columns\n",
        "df_merged = pd.merge(df_drugs_disease, df_disease_drug, left_on=['medical_condition', 'drug_name'], right_on=['disease', 'drug'], how='inner')\n",
        "\n",
        "# Merge resulting dataset with disease to symptoms dataset on disease column\n",
        "df_final = pd.merge(df_merged, df_disease_symptoms, on='disease', how='left')\n",
        "\n",
        "# Fill NaN values in symptom columns with empty strings\n",
        "symptom_columns = [f'Symptom_{i}' for i in range(1, 18)]\n",
        "df_final[symptom_columns] = df_final[symptom_columns].fillna('')\n",
        "\n",
        "# Combine extracted symptoms from medical_condition_description and symptom columns\n",
        "df_final['combined_symptoms'] = df_final.apply(lambda row: list(set(row['extracted_symptoms'] + [symptom for symptom in row[symptom_columns] if symptom])), axis=1)\n",
        "\n",
        "# Drop all columns except drug_name, disease, and symptom columns\n",
        "columns_to_keep = ['drug_name', 'disease'] + symptom_columns\n",
        "df_final = df_final[columns_to_keep]\n",
        "\n",
        "# Save the final dataset to a CSV file\n",
        "df_final.to_csv('final_dataset_with_symptoms.csv', index=False)\n",
        "\n",
        "# Display the first few rows of the final dataset\n",
        "print(df_final.head())\n"
      ],
      "metadata": {
        "colab": {
          "base_uri": "https://localhost:8080/"
        },
        "id": "L4dBZq68DtOo",
        "outputId": "fd9b8bf8-29f7-4d10-efdf-183ab3fabf8f"
      },
      "execution_count": 28,
      "outputs": [
        {
          "output_type": "stream",
          "name": "stdout",
          "text": [
            "     drug_name disease            Symptom_1            Symptom_2    Symptom_3  \\\n",
            "0  doxycycline    acne            skin_rash   pus_filled_pimples   blackheads   \n",
            "1  doxycycline    acne            skin_rash   pus_filled_pimples   blackheads   \n",
            "2  doxycycline    acne   pus_filled_pimples           blackheads     scurring   \n",
            "3  doxycycline    acne            skin_rash           blackheads     scurring   \n",
            "4  doxycycline    acne            skin_rash   pus_filled_pimples     scurring   \n",
            "\n",
            "   Symptom_4 Symptom_5 Symptom_6 Symptom_7 Symptom_8 Symptom_9 Symptom_10  \\\n",
            "0   scurring                                                                \n",
            "1   scurring                                                                \n",
            "2                                                                           \n",
            "3                                                                           \n",
            "4                                                                           \n",
            "\n",
            "  Symptom_11 Symptom_12 Symptom_13 Symptom_14 Symptom_15 Symptom_16 Symptom_17  \n",
            "0                                                                               \n",
            "1                                                                               \n",
            "2                                                                               \n",
            "3                                                                               \n",
            "4                                                                               \n"
          ]
        }
      ]
    },
    {
      "cell_type": "code",
      "source": [
        "# Assuming df_final is already defined and contains your final dataset\n",
        "\n",
        "# Get the shape of the dataframe (rows, columns)\n",
        "total_rows = df_final.shape[0]\n",
        "\n",
        "print(f\"Total number of rows in the final dataset: {total_rows}\")\n"
      ],
      "metadata": {
        "colab": {
          "base_uri": "https://localhost:8080/"
        },
        "id": "IZNfNTqgEWzd",
        "outputId": "21653b3c-6477-46f0-8efe-80d67013520c"
      },
      "execution_count": 27,
      "outputs": [
        {
          "output_type": "stream",
          "name": "stdout",
          "text": [
            "Total number of rows in the final dataset: 23437\n"
          ]
        }
      ]
    }
  ]
}