{
  "nbformat": 4,
  "nbformat_minor": 0,
  "metadata": {
    "colab": {
      "provenance": []
    },
    "kernelspec": {
      "name": "python3",
      "display_name": "Python 3"
    },
    "language_info": {
      "name": "python"
    }
  },
  "cells": [
    {
      "cell_type": "code",
      "execution_count": 10,
      "metadata": {
        "id": "pj6cQ6tsDFMV"
      },
      "outputs": [],
      "source": [
        "import pandas as pd\n",
        "import re\n",
        "\n",
        "# Load the disease-symptom dataset\n",
        "df_disease_symptom = pd.read_csv('dataset.csv')\n",
        "# Load the drugs disease dataset\n",
        "df_drugs_disease = pd.read_csv('drugs_side_effects_drugs_com.csv')\n",
        "\n",
        "# Fill any missing values\n",
        "df_drugs_disease.fillna('', inplace=True)\n",
        "\n",
        "# Fill any missing values\n",
        "df_disease_symptom.fillna('', inplace=True)\n",
        "\n",
        "# Combine all 17 symptom columns into a single list\n",
        "symptom_columns = [f'Symptom_{i}' for i in range(1, 18)]\n",
        "all_symptoms = df_disease_symptom[symptom_columns].values.flatten()\n",
        "\n",
        "# Remove empty strings and get unique symptoms\n",
        "unique_symptoms = pd.Series(all_symptoms).replace('', pd.NA).dropna().unique()\n",
        "\n",
        "# Convert to list for easier handling\n",
        "unique_symptoms_list = unique_symptoms.tolist()\n",
        "\n",
        "# Print the list of unique symptoms\n",
        "# print(unique_symptoms_list)\n",
        "\n",
        "# Convert disease names to lowercase and strip leading/trailing whitespace\n",
        "# df_disease_symptom['Disease'] = df_disease_symptom['Disease'].str.lower().str.strip()\n",
        "# df_drugs_disease['medical_condition'] = df_drugs_disease['medical_condition'].str.lower().str.strip()\n",
        "\n",
        "# df_merged = pd.merge(df_disease_symptom, df_drugs_disease, left_on='Disease', right_on='medical_condition', how='inner')\n",
        "\n",
        "# # Drop the redundant 'medical_condition' column after merging\n",
        "# df_merged.drop('medical_condition', axis=1, inplace=True)\n",
        "\n",
        "# # Fill any remaining missing values if necessary\n",
        "# df_merged.fillna('', inplace=True)\n",
        "\n",
        "# # Save the merged dataset to a new CSV file\n",
        "# df_merged.to_csv('merged_dataset.csv', index=False)\n",
        "\n",
        "# # Display the first few rows of the merged dataset\n",
        "# print(df_merged.head())"
      ]
    },
    {
      "cell_type": "code",
      "source": [
        "# Function to extract symptoms from medical condition description\n",
        "def extract_symptoms(description, symptoms_list):\n",
        "    description = description.lower()\n",
        "    found_symptoms = [symptom for symptom in symptoms_list if re.search(r'\\b' + re.escape(symptom) + r'\\b', description)]\n",
        "    return found_symptoms"
      ],
      "metadata": {
        "id": "3Jpbi3FG6Oan"
      },
      "execution_count": 11,
      "outputs": []
    },
    {
      "cell_type": "code",
      "source": [
        "df_drugs_disease['extracted_symptoms'] = df_drugs_disease['medical_condition_description'].apply(lambda x: extract_symptoms(x, unique_symptoms_list))\n",
        "\n",
        "# Split the extracted symptoms into separate columns\n",
        "df_exploded_symptoms = df_drugs_disease['extracted_symptoms'].apply(pd.Series)\n"
      ],
      "metadata": {
        "id": "w46kEb806PCm"
      },
      "execution_count": 14,
      "outputs": []
    },
    {
      "cell_type": "code",
      "source": [
        "# Combine symptom columns into a single list for each disease\n",
        "df_disease_symptom['all_symptoms'] = df_disease_symptom.apply(\n",
        "    lambda row: list(filter(None, [row[f'Symptom_{i}'] for i in range(1, 18)])), axis=1\n",
        ")\n",
        "\n",
        "# Convert disease names to lowercase and strip leading/trailing whitespace\n",
        "df_disease_symptom['Disease'] = df_disease_symptom['Disease'].str.lower().str.strip()\n",
        "df_drugs_disease['medical_condition'] = df_drugs_disease['medical_condition'].str.lower().str.strip()\n",
        "\n",
        "# Merge the datasets on the disease column\n",
        "df_merged = pd.merge(df_drugs_disease, df_disease_symptom, left_on='medical_condition', right_on='Disease', how='inner')\n",
        "\n",
        "# Combine symptoms from both datasets\n",
        "def combine_symptoms(row):\n",
        "    symptoms = set(row['extracted_symptoms'] + row['all_symptoms'])\n",
        "    return list(symptoms)\n",
        "\n",
        "df_merged['combined_symptoms'] = df_merged.apply(combine_symptoms, axis=1)\n",
        "\n",
        "# Split the combined symptoms into separate columns\n",
        "df_combined_symptoms = df_merged['combined_symptoms'].apply(pd.Series)\n",
        "\n",
        "# Rename the columns to Symptom_1, Symptom_2, etc.\n",
        "df_combined_symptoms.columns = [f'Symptom_{i+1}' for i in range(df_combined_symptoms.shape[1])]\n",
        "\n",
        "# Concatenate the combined symptoms columns with the merged dataframe\n",
        "df_final = pd.concat([df_merged, df_combined_symptoms], axis=1)\n",
        "\n",
        "# Drop unnecessary columns\n",
        "df_final.drop(['extracted_symptoms', 'all_symptoms', 'combined_symptoms', 'Disease'], axis=1, inplace=True)\n",
        "\n",
        "# Save the final merged dataset to a new CSV file\n",
        "df_final.to_csv('final_merged_dataset.csv', index=False)\n",
        "\n",
        "# Display the first few rows of the final merged dataset\n",
        "print(df_merged.head())"
      ],
      "metadata": {
        "colab": {
          "base_uri": "https://localhost:8080/"
        },
        "id": "zJCjX-JD7N-2",
        "outputId": "534ef907-9d75-4a06-de7c-686e2abe7901"
      },
      "execution_count": 17,
      "outputs": [
        {
          "output_type": "stream",
          "name": "stdout",
          "text": [
            "     drug_name medical_condition  \\\n",
            "0  doxycycline              acne   \n",
            "1  doxycycline              acne   \n",
            "2  doxycycline              acne   \n",
            "3  doxycycline              acne   \n",
            "4  doxycycline              acne   \n",
            "\n",
            "                                        side_effects generic_name  \\\n",
            "0  (hives, difficult breathing, swelling in your ...  doxycycline   \n",
            "1  (hives, difficult breathing, swelling in your ...  doxycycline   \n",
            "2  (hives, difficult breathing, swelling in your ...  doxycycline   \n",
            "3  (hives, difficult breathing, swelling in your ...  doxycycline   \n",
            "4  (hives, difficult breathing, swelling in your ...  doxycycline   \n",
            "\n",
            "                                 drug_classes  \\\n",
            "0  Miscellaneous antimalarials, Tetracyclines   \n",
            "1  Miscellaneous antimalarials, Tetracyclines   \n",
            "2  Miscellaneous antimalarials, Tetracyclines   \n",
            "3  Miscellaneous antimalarials, Tetracyclines   \n",
            "4  Miscellaneous antimalarials, Tetracyclines   \n",
            "\n",
            "                                         brand_names activity rx_otc  \\\n",
            "0  Acticlate, Adoxa CK, Adoxa Pak, Adoxa TT, Alod...      87%     Rx   \n",
            "1  Acticlate, Adoxa CK, Adoxa Pak, Adoxa TT, Alod...      87%     Rx   \n",
            "2  Acticlate, Adoxa CK, Adoxa Pak, Adoxa TT, Alod...      87%     Rx   \n",
            "3  Acticlate, Adoxa CK, Adoxa Pak, Adoxa TT, Alod...      87%     Rx   \n",
            "4  Acticlate, Adoxa CK, Adoxa Pak, Adoxa TT, Alod...      87%     Rx   \n",
            "\n",
            "  pregnancy_category csa  ... Symptom_10 Symptom_11 Symptom_12 Symptom_13  \\\n",
            "0                  D   N  ...                                               \n",
            "1                  D   N  ...                                               \n",
            "2                  D   N  ...                                               \n",
            "3                  D   N  ...                                               \n",
            "4                  D   N  ...                                               \n",
            "\n",
            "  Symptom_14 Symptom_15 Symptom_16 Symptom_17  \\\n",
            "0                                               \n",
            "1                                               \n",
            "2                                               \n",
            "3                                               \n",
            "4                                               \n",
            "\n",
            "                                        all_symptoms  \\\n",
            "0  [ skin_rash,  pus_filled_pimples,  blackheads,...   \n",
            "1  [ skin_rash,  pus_filled_pimples,  blackheads,...   \n",
            "2      [ pus_filled_pimples,  blackheads,  scurring]   \n",
            "3               [ skin_rash,  blackheads,  scurring]   \n",
            "4       [ skin_rash,  pus_filled_pimples,  scurring]   \n",
            "\n",
            "                                   combined_symptoms  \n",
            "0  [ scurring,  blackheads,  skin_rash,  sweating...  \n",
            "1  [ scurring,  blackheads,  skin_rash,  sweating...  \n",
            "2  [ blackheads,  pus_filled_pimples,  sweating, ...  \n",
            "3    [ blackheads,  skin_rash,  sweating,  scurring]  \n",
            "4  [ scurring,  blackheads,  skin_rash,  sweating...  \n",
            "\n",
            "[5 rows x 44 columns]\n"
          ]
        }
      ]
    }
  ]
}